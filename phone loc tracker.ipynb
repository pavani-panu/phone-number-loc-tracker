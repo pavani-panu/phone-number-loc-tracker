{
 "cells": [
  {
   "cell_type": "code",
   "execution_count": 2,
   "id": "53ee091c",
   "metadata": {},
   "outputs": [
    {
     "name": "stdout",
     "output_type": "stream",
     "text": [
      "Requirement already satisfied: phonenumbers in c:\\users\\91965\\anaconda3\\lib\\site-packages (9.0.0)Note: you may need to restart the kernel to use updated packages.\n",
      "\n",
      "Requirement already satisfied: geopy in c:\\users\\91965\\anaconda3\\lib\\site-packages (2.4.1)\n",
      "Requirement already satisfied: folium in c:\\users\\91965\\anaconda3\\lib\\site-packages (0.19.5)\n",
      "Requirement already satisfied: geographiclib<3,>=1.52 in c:\\users\\91965\\anaconda3\\lib\\site-packages (from geopy) (2.0)\n",
      "Requirement already satisfied: numpy in c:\\users\\91965\\anaconda3\\lib\\site-packages (from folium) (1.23.5)\n",
      "Requirement already satisfied: requests in c:\\users\\91965\\anaconda3\\lib\\site-packages (from folium) (2.28.1)\n",
      "Requirement already satisfied: jinja2>=2.9 in c:\\users\\91965\\anaconda3\\lib\\site-packages (from folium) (3.1.2)\n",
      "Requirement already satisfied: branca>=0.6.0 in c:\\users\\91965\\anaconda3\\lib\\site-packages (from folium) (0.8.1)\n",
      "Requirement already satisfied: xyzservices in c:\\users\\91965\\anaconda3\\lib\\site-packages (from folium) (2025.1.0)\n",
      "Requirement already satisfied: MarkupSafe>=2.0 in c:\\users\\91965\\anaconda3\\lib\\site-packages (from jinja2>=2.9->folium) (2.1.1)\n",
      "Requirement already satisfied: certifi>=2017.4.17 in c:\\users\\91965\\anaconda3\\lib\\site-packages (from requests->folium) (2022.12.7)\n",
      "Requirement already satisfied: idna<4,>=2.5 in c:\\users\\91965\\anaconda3\\lib\\site-packages (from requests->folium) (3.4)\n",
      "Requirement already satisfied: urllib3<1.27,>=1.21.1 in c:\\users\\91965\\anaconda3\\lib\\site-packages (from requests->folium) (1.26.14)\n",
      "Requirement already satisfied: charset-normalizer<3,>=2 in c:\\users\\91965\\anaconda3\\lib\\site-packages (from requests->folium) (2.0.4)\n"
     ]
    }
   ],
   "source": [
    "pip install phonenumbers geopy folium"
   ]
  },
  {
   "cell_type": "code",
   "execution_count": 5,
   "id": "830be8f1",
   "metadata": {},
   "outputs": [
    {
     "name": "stdout",
     "output_type": "stream",
     "text": [
      "Phone Number: +919876543210\n",
      "Location: India\n",
      "Service Provider: Airtel\n"
     ]
    }
   ],
   "source": [
    "import phonenumbers\n",
    "from phonenumbers import geocoder, carrier\n",
    "\n",
    "# Function to track phone number location\n",
    "def track_number(phone_number):\n",
    "    # Parse the phone number\n",
    "    parsed_number = phonenumbers.parse(phone_number)\n",
    "\n",
    "    # Get the country/location of the number\n",
    "    location = geocoder.description_for_number(parsed_number, \"en\")\n",
    "\n",
    "    # Get the service provider (carrier)\n",
    "    service_provider = carrier.name_for_number(parsed_number, \"en\")\n",
    "\n",
    "    # Print the details\n",
    "    print(f\"Phone Number: {phone_number}\")\n",
    "    print(f\"Location: {location}\")\n",
    "    print(f\"Service Provider: {service_provider}\")\n",
    "\n",
    "# Example usage\n",
    "phone_number = \"+919876543210\"  # Replace with the phone number you want to track\n",
    "track_number(phone_number)\n"
   ]
  },
  {
   "cell_type": "code",
   "execution_count": null,
   "id": "6f4d7c87",
   "metadata": {},
   "outputs": [],
   "source": []
  },
  {
   "cell_type": "code",
   "execution_count": null,
   "id": "1b6bb5ff",
   "metadata": {},
   "outputs": [],
   "source": [
    "\n"
   ]
  },
  {
   "cell_type": "code",
   "execution_count": 1,
   "id": "f36ce0d3",
   "metadata": {},
   "outputs": [
    {
     "name": "stdout",
     "output_type": "stream",
     "text": [
      "Phone Number: +919989646203\n",
      "Location: India\n",
      "Service Provider: Airtel\n"
     ]
    }
   ],
   "source": [
    "import phonenumbers\n",
    "from phonenumbers import geocoder, carrier\n",
    "\n",
    "# Function to track phone number location\n",
    "def track_number(phone_number):\n",
    "    # Parse the phone number\n",
    "    parsed_number = phonenumbers.parse(phone_number)\n",
    "\n",
    "    # Get the country/location of the number\n",
    "    location = geocoder.description_for_number(parsed_number, \"en\")\n",
    "\n",
    "    # Get the service provider (carrier)\n",
    "    service_provider = carrier.name_for_number(parsed_number, \"en\")\n",
    "\n",
    "    # Print the details\n",
    "    print(f\"Phone Number: {phone_number}\")\n",
    "    print(f\"Location: {location}\")\n",
    "    print(f\"Service Provider: {service_provider}\")\n",
    "\n",
    "# Example usage\n",
    "phone_number = \"+919989646203\"  # Replace with the phone number you want to track\n",
    "track_number(phone_number)\n"
   ]
  },
  {
   "cell_type": "code",
   "execution_count": null,
   "id": "78b3e3da",
   "metadata": {},
   "outputs": [],
   "source": []
  },
  {
   "cell_type": "code",
   "execution_count": 2,
   "id": "114a1b82",
   "metadata": {},
   "outputs": [
    {
     "name": "stdout",
     "output_type": "stream",
     "text": [
      "Phone Number: +917569073218\n",
      "Location: India\n",
      "Service Provider: Reliance Jio\n"
     ]
    }
   ],
   "source": [
    "import phonenumbers\n",
    "from phonenumbers import geocoder, carrier\n",
    "\n",
    "# Function to track phone number location\n",
    "def track_number(phone_number):\n",
    "    # Parse the phone number\n",
    "    parsed_number = phonenumbers.parse(phone_number)\n",
    "\n",
    "    # Get the country/location of the number\n",
    "    location = geocoder.description_for_number(parsed_number, \"en\")\n",
    "\n",
    "    # Get the service provider (carrier)\n",
    "    service_provider = carrier.name_for_number(parsed_number, \"en\")\n",
    "\n",
    "    # Print the details\n",
    "    print(f\"Phone Number: {phone_number}\")\n",
    "    print(f\"Location: {location}\")\n",
    "    print(f\"Service Provider: {service_provider}\")\n",
    "\n",
    "# Example usage\n",
    "phone_number = \"+917569073218\"  # Replace with the phone number you want to track\n",
    "track_number(phone_number)\n"
   ]
  },
  {
   "cell_type": "code",
   "execution_count": null,
   "id": "24b5f833",
   "metadata": {},
   "outputs": [],
   "source": []
  }
 ],
 "metadata": {
  "kernelspec": {
   "display_name": "Python 3 (ipykernel)",
   "language": "python",
   "name": "python3"
  },
  "language_info": {
   "codemirror_mode": {
    "name": "ipython",
    "version": 3
   },
   "file_extension": ".py",
   "mimetype": "text/x-python",
   "name": "python",
   "nbconvert_exporter": "python",
   "pygments_lexer": "ipython3",
   "version": "3.10.9"
  }
 },
 "nbformat": 4,
 "nbformat_minor": 5
}
